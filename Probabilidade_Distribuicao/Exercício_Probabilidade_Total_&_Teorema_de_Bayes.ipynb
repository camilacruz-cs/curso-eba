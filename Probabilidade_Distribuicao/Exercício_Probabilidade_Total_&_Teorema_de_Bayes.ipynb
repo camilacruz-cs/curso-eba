{
  "nbformat": 4,
  "nbformat_minor": 0,
  "metadata": {
    "colab": {
      "provenance": [],
      "authorship_tag": "ABX9TyMdbJqP9r1jZLq4tDnFl+JW",
      "include_colab_link": true
    },
    "kernelspec": {
      "name": "python3",
      "display_name": "Python 3"
    },
    "language_info": {
      "name": "python"
    }
  },
  "cells": [
    {
      "cell_type": "markdown",
      "metadata": {
        "id": "view-in-github",
        "colab_type": "text"
      },
      "source": [
        "<a href=\"https://colab.research.google.com/github/camilacruz-cs/curso-eba/blob/main/Probabilidade_Distribuicao/Exerc%C3%ADcio_Probabilidade_Total_%26_Teorema_de_Bayes.ipynb\" target=\"_parent\"><img src=\"https://colab.research.google.com/assets/colab-badge.svg\" alt=\"Open In Colab\"/></a>"
      ]
    },
    {
      "cell_type": "code",
      "source": [
        "import pandas as pd\n",
        "\n",
        "# Criando o DataFrame\n",
        "data = {\n",
        "    'Situação': [\n",
        "        'Quer saber se alguém vai comprar',\n",
        "        'Já comprou, e quer saber o porquê',\n",
        "        'Combina vários grupos',\n",
        "        'Vai de efeito → causa'\n",
        "    ],\n",
        "    'Fórmula': ['Prob. Total', 'Bayes', 'Prob. Total', 'Bayes'],\n",
        "    'Dica Visual': [\n",
        "        'Futuro → previsão',\n",
        "        'Passado → explicação',\n",
        "        'Somando caminhos possíveis',\n",
        "        'Rastreando de volta a origem'\n",
        "    ]\n",
        "}\n",
        "\n",
        "df = pd.DataFrame(data)\n",
        "\n",
        "# Exibindo a tabela\n",
        "df\n"
      ],
      "metadata": {
        "id": "JShmB3BmZWfV",
        "outputId": "8707baa9-0bcb-4db0-c0db-da484ef36a2f",
        "colab": {
          "base_uri": "https://localhost:8080/",
          "height": 175
        }
      },
      "execution_count": null,
      "outputs": [
        {
          "output_type": "execute_result",
          "data": {
            "text/plain": [
              "                            Situação      Fórmula  \\\n",
              "0   Quer saber se alguém vai comprar  Prob. Total   \n",
              "1  Já comprou, e quer saber o porquê        Bayes   \n",
              "2              Combina vários grupos  Prob. Total   \n",
              "3              Vai de efeito → causa        Bayes   \n",
              "\n",
              "                    Dica Visual  \n",
              "0             Futuro → previsão  \n",
              "1          Passado → explicação  \n",
              "2    Somando caminhos possíveis  \n",
              "3  Rastreando de volta a origem  "
            ],
            "text/html": [
              "\n",
              "  <div id=\"df-c0470cfe-24da-4b07-9d78-c599bca4529c\" class=\"colab-df-container\">\n",
              "    <div>\n",
              "<style scoped>\n",
              "    .dataframe tbody tr th:only-of-type {\n",
              "        vertical-align: middle;\n",
              "    }\n",
              "\n",
              "    .dataframe tbody tr th {\n",
              "        vertical-align: top;\n",
              "    }\n",
              "\n",
              "    .dataframe thead th {\n",
              "        text-align: right;\n",
              "    }\n",
              "</style>\n",
              "<table border=\"1\" class=\"dataframe\">\n",
              "  <thead>\n",
              "    <tr style=\"text-align: right;\">\n",
              "      <th></th>\n",
              "      <th>Situação</th>\n",
              "      <th>Fórmula</th>\n",
              "      <th>Dica Visual</th>\n",
              "    </tr>\n",
              "  </thead>\n",
              "  <tbody>\n",
              "    <tr>\n",
              "      <th>0</th>\n",
              "      <td>Quer saber se alguém vai comprar</td>\n",
              "      <td>Prob. Total</td>\n",
              "      <td>Futuro → previsão</td>\n",
              "    </tr>\n",
              "    <tr>\n",
              "      <th>1</th>\n",
              "      <td>Já comprou, e quer saber o porquê</td>\n",
              "      <td>Bayes</td>\n",
              "      <td>Passado → explicação</td>\n",
              "    </tr>\n",
              "    <tr>\n",
              "      <th>2</th>\n",
              "      <td>Combina vários grupos</td>\n",
              "      <td>Prob. Total</td>\n",
              "      <td>Somando caminhos possíveis</td>\n",
              "    </tr>\n",
              "    <tr>\n",
              "      <th>3</th>\n",
              "      <td>Vai de efeito → causa</td>\n",
              "      <td>Bayes</td>\n",
              "      <td>Rastreando de volta a origem</td>\n",
              "    </tr>\n",
              "  </tbody>\n",
              "</table>\n",
              "</div>\n",
              "    <div class=\"colab-df-buttons\">\n",
              "\n",
              "  <div class=\"colab-df-container\">\n",
              "    <button class=\"colab-df-convert\" onclick=\"convertToInteractive('df-c0470cfe-24da-4b07-9d78-c599bca4529c')\"\n",
              "            title=\"Convert this dataframe to an interactive table.\"\n",
              "            style=\"display:none;\">\n",
              "\n",
              "  <svg xmlns=\"http://www.w3.org/2000/svg\" height=\"24px\" viewBox=\"0 -960 960 960\">\n",
              "    <path d=\"M120-120v-720h720v720H120Zm60-500h600v-160H180v160Zm220 220h160v-160H400v160Zm0 220h160v-160H400v160ZM180-400h160v-160H180v160Zm440 0h160v-160H620v160ZM180-180h160v-160H180v160Zm440 0h160v-160H620v160Z\"/>\n",
              "  </svg>\n",
              "    </button>\n",
              "\n",
              "  <style>\n",
              "    .colab-df-container {\n",
              "      display:flex;\n",
              "      gap: 12px;\n",
              "    }\n",
              "\n",
              "    .colab-df-convert {\n",
              "      background-color: #E8F0FE;\n",
              "      border: none;\n",
              "      border-radius: 50%;\n",
              "      cursor: pointer;\n",
              "      display: none;\n",
              "      fill: #1967D2;\n",
              "      height: 32px;\n",
              "      padding: 0 0 0 0;\n",
              "      width: 32px;\n",
              "    }\n",
              "\n",
              "    .colab-df-convert:hover {\n",
              "      background-color: #E2EBFA;\n",
              "      box-shadow: 0px 1px 2px rgba(60, 64, 67, 0.3), 0px 1px 3px 1px rgba(60, 64, 67, 0.15);\n",
              "      fill: #174EA6;\n",
              "    }\n",
              "\n",
              "    .colab-df-buttons div {\n",
              "      margin-bottom: 4px;\n",
              "    }\n",
              "\n",
              "    [theme=dark] .colab-df-convert {\n",
              "      background-color: #3B4455;\n",
              "      fill: #D2E3FC;\n",
              "    }\n",
              "\n",
              "    [theme=dark] .colab-df-convert:hover {\n",
              "      background-color: #434B5C;\n",
              "      box-shadow: 0px 1px 3px 1px rgba(0, 0, 0, 0.15);\n",
              "      filter: drop-shadow(0px 1px 2px rgba(0, 0, 0, 0.3));\n",
              "      fill: #FFFFFF;\n",
              "    }\n",
              "  </style>\n",
              "\n",
              "    <script>\n",
              "      const buttonEl =\n",
              "        document.querySelector('#df-c0470cfe-24da-4b07-9d78-c599bca4529c button.colab-df-convert');\n",
              "      buttonEl.style.display =\n",
              "        google.colab.kernel.accessAllowed ? 'block' : 'none';\n",
              "\n",
              "      async function convertToInteractive(key) {\n",
              "        const element = document.querySelector('#df-c0470cfe-24da-4b07-9d78-c599bca4529c');\n",
              "        const dataTable =\n",
              "          await google.colab.kernel.invokeFunction('convertToInteractive',\n",
              "                                                    [key], {});\n",
              "        if (!dataTable) return;\n",
              "\n",
              "        const docLinkHtml = 'Like what you see? Visit the ' +\n",
              "          '<a target=\"_blank\" href=https://colab.research.google.com/notebooks/data_table.ipynb>data table notebook</a>'\n",
              "          + ' to learn more about interactive tables.';\n",
              "        element.innerHTML = '';\n",
              "        dataTable['output_type'] = 'display_data';\n",
              "        await google.colab.output.renderOutput(dataTable, element);\n",
              "        const docLink = document.createElement('div');\n",
              "        docLink.innerHTML = docLinkHtml;\n",
              "        element.appendChild(docLink);\n",
              "      }\n",
              "    </script>\n",
              "  </div>\n",
              "\n",
              "\n",
              "<div id=\"df-52047283-b336-40ba-a7d6-29a5a10b4d46\">\n",
              "  <button class=\"colab-df-quickchart\" onclick=\"quickchart('df-52047283-b336-40ba-a7d6-29a5a10b4d46')\"\n",
              "            title=\"Suggest charts\"\n",
              "            style=\"display:none;\">\n",
              "\n",
              "<svg xmlns=\"http://www.w3.org/2000/svg\" height=\"24px\"viewBox=\"0 0 24 24\"\n",
              "     width=\"24px\">\n",
              "    <g>\n",
              "        <path d=\"M19 3H5c-1.1 0-2 .9-2 2v14c0 1.1.9 2 2 2h14c1.1 0 2-.9 2-2V5c0-1.1-.9-2-2-2zM9 17H7v-7h2v7zm4 0h-2V7h2v10zm4 0h-2v-4h2v4z\"/>\n",
              "    </g>\n",
              "</svg>\n",
              "  </button>\n",
              "\n",
              "<style>\n",
              "  .colab-df-quickchart {\n",
              "      --bg-color: #E8F0FE;\n",
              "      --fill-color: #1967D2;\n",
              "      --hover-bg-color: #E2EBFA;\n",
              "      --hover-fill-color: #174EA6;\n",
              "      --disabled-fill-color: #AAA;\n",
              "      --disabled-bg-color: #DDD;\n",
              "  }\n",
              "\n",
              "  [theme=dark] .colab-df-quickchart {\n",
              "      --bg-color: #3B4455;\n",
              "      --fill-color: #D2E3FC;\n",
              "      --hover-bg-color: #434B5C;\n",
              "      --hover-fill-color: #FFFFFF;\n",
              "      --disabled-bg-color: #3B4455;\n",
              "      --disabled-fill-color: #666;\n",
              "  }\n",
              "\n",
              "  .colab-df-quickchart {\n",
              "    background-color: var(--bg-color);\n",
              "    border: none;\n",
              "    border-radius: 50%;\n",
              "    cursor: pointer;\n",
              "    display: none;\n",
              "    fill: var(--fill-color);\n",
              "    height: 32px;\n",
              "    padding: 0;\n",
              "    width: 32px;\n",
              "  }\n",
              "\n",
              "  .colab-df-quickchart:hover {\n",
              "    background-color: var(--hover-bg-color);\n",
              "    box-shadow: 0 1px 2px rgba(60, 64, 67, 0.3), 0 1px 3px 1px rgba(60, 64, 67, 0.15);\n",
              "    fill: var(--button-hover-fill-color);\n",
              "  }\n",
              "\n",
              "  .colab-df-quickchart-complete:disabled,\n",
              "  .colab-df-quickchart-complete:disabled:hover {\n",
              "    background-color: var(--disabled-bg-color);\n",
              "    fill: var(--disabled-fill-color);\n",
              "    box-shadow: none;\n",
              "  }\n",
              "\n",
              "  .colab-df-spinner {\n",
              "    border: 2px solid var(--fill-color);\n",
              "    border-color: transparent;\n",
              "    border-bottom-color: var(--fill-color);\n",
              "    animation:\n",
              "      spin 1s steps(1) infinite;\n",
              "  }\n",
              "\n",
              "  @keyframes spin {\n",
              "    0% {\n",
              "      border-color: transparent;\n",
              "      border-bottom-color: var(--fill-color);\n",
              "      border-left-color: var(--fill-color);\n",
              "    }\n",
              "    20% {\n",
              "      border-color: transparent;\n",
              "      border-left-color: var(--fill-color);\n",
              "      border-top-color: var(--fill-color);\n",
              "    }\n",
              "    30% {\n",
              "      border-color: transparent;\n",
              "      border-left-color: var(--fill-color);\n",
              "      border-top-color: var(--fill-color);\n",
              "      border-right-color: var(--fill-color);\n",
              "    }\n",
              "    40% {\n",
              "      border-color: transparent;\n",
              "      border-right-color: var(--fill-color);\n",
              "      border-top-color: var(--fill-color);\n",
              "    }\n",
              "    60% {\n",
              "      border-color: transparent;\n",
              "      border-right-color: var(--fill-color);\n",
              "    }\n",
              "    80% {\n",
              "      border-color: transparent;\n",
              "      border-right-color: var(--fill-color);\n",
              "      border-bottom-color: var(--fill-color);\n",
              "    }\n",
              "    90% {\n",
              "      border-color: transparent;\n",
              "      border-bottom-color: var(--fill-color);\n",
              "    }\n",
              "  }\n",
              "</style>\n",
              "\n",
              "  <script>\n",
              "    async function quickchart(key) {\n",
              "      const quickchartButtonEl =\n",
              "        document.querySelector('#' + key + ' button');\n",
              "      quickchartButtonEl.disabled = true;  // To prevent multiple clicks.\n",
              "      quickchartButtonEl.classList.add('colab-df-spinner');\n",
              "      try {\n",
              "        const charts = await google.colab.kernel.invokeFunction(\n",
              "            'suggestCharts', [key], {});\n",
              "      } catch (error) {\n",
              "        console.error('Error during call to suggestCharts:', error);\n",
              "      }\n",
              "      quickchartButtonEl.classList.remove('colab-df-spinner');\n",
              "      quickchartButtonEl.classList.add('colab-df-quickchart-complete');\n",
              "    }\n",
              "    (() => {\n",
              "      let quickchartButtonEl =\n",
              "        document.querySelector('#df-52047283-b336-40ba-a7d6-29a5a10b4d46 button');\n",
              "      quickchartButtonEl.style.display =\n",
              "        google.colab.kernel.accessAllowed ? 'block' : 'none';\n",
              "    })();\n",
              "  </script>\n",
              "</div>\n",
              "\n",
              "  <div id=\"id_6bd4044c-7d27-4ebf-a4bc-71e23a99d135\">\n",
              "    <style>\n",
              "      .colab-df-generate {\n",
              "        background-color: #E8F0FE;\n",
              "        border: none;\n",
              "        border-radius: 50%;\n",
              "        cursor: pointer;\n",
              "        display: none;\n",
              "        fill: #1967D2;\n",
              "        height: 32px;\n",
              "        padding: 0 0 0 0;\n",
              "        width: 32px;\n",
              "      }\n",
              "\n",
              "      .colab-df-generate:hover {\n",
              "        background-color: #E2EBFA;\n",
              "        box-shadow: 0px 1px 2px rgba(60, 64, 67, 0.3), 0px 1px 3px 1px rgba(60, 64, 67, 0.15);\n",
              "        fill: #174EA6;\n",
              "      }\n",
              "\n",
              "      [theme=dark] .colab-df-generate {\n",
              "        background-color: #3B4455;\n",
              "        fill: #D2E3FC;\n",
              "      }\n",
              "\n",
              "      [theme=dark] .colab-df-generate:hover {\n",
              "        background-color: #434B5C;\n",
              "        box-shadow: 0px 1px 3px 1px rgba(0, 0, 0, 0.15);\n",
              "        filter: drop-shadow(0px 1px 2px rgba(0, 0, 0, 0.3));\n",
              "        fill: #FFFFFF;\n",
              "      }\n",
              "    </style>\n",
              "    <button class=\"colab-df-generate\" onclick=\"generateWithVariable('df')\"\n",
              "            title=\"Generate code using this dataframe.\"\n",
              "            style=\"display:none;\">\n",
              "\n",
              "  <svg xmlns=\"http://www.w3.org/2000/svg\" height=\"24px\"viewBox=\"0 0 24 24\"\n",
              "       width=\"24px\">\n",
              "    <path d=\"M7,19H8.4L18.45,9,17,7.55,7,17.6ZM5,21V16.75L18.45,3.32a2,2,0,0,1,2.83,0l1.4,1.43a1.91,1.91,0,0,1,.58,1.4,1.91,1.91,0,0,1-.58,1.4L9.25,21ZM18.45,9,17,7.55Zm-12,3A5.31,5.31,0,0,0,4.9,8.1,5.31,5.31,0,0,0,1,6.5,5.31,5.31,0,0,0,4.9,4.9,5.31,5.31,0,0,0,6.5,1,5.31,5.31,0,0,0,8.1,4.9,5.31,5.31,0,0,0,12,6.5,5.46,5.46,0,0,0,6.5,12Z\"/>\n",
              "  </svg>\n",
              "    </button>\n",
              "    <script>\n",
              "      (() => {\n",
              "      const buttonEl =\n",
              "        document.querySelector('#id_6bd4044c-7d27-4ebf-a4bc-71e23a99d135 button.colab-df-generate');\n",
              "      buttonEl.style.display =\n",
              "        google.colab.kernel.accessAllowed ? 'block' : 'none';\n",
              "\n",
              "      buttonEl.onclick = () => {\n",
              "        google.colab.notebook.generateWithVariable('df');\n",
              "      }\n",
              "      })();\n",
              "    </script>\n",
              "  </div>\n",
              "\n",
              "    </div>\n",
              "  </div>\n"
            ],
            "application/vnd.google.colaboratory.intrinsic+json": {
              "type": "dataframe",
              "variable_name": "df",
              "summary": "{\n  \"name\": \"df\",\n  \"rows\": 4,\n  \"fields\": [\n    {\n      \"column\": \"Situa\\u00e7\\u00e3o\",\n      \"properties\": {\n        \"dtype\": \"string\",\n        \"num_unique_values\": 4,\n        \"samples\": [\n          \"J\\u00e1 comprou, e quer saber o porqu\\u00ea\",\n          \"Vai de efeito \\u2192 causa\",\n          \"Quer saber se algu\\u00e9m vai comprar\"\n        ],\n        \"semantic_type\": \"\",\n        \"description\": \"\"\n      }\n    },\n    {\n      \"column\": \"F\\u00f3rmula\",\n      \"properties\": {\n        \"dtype\": \"string\",\n        \"num_unique_values\": 2,\n        \"samples\": [\n          \"Bayes\",\n          \"Prob. Total\"\n        ],\n        \"semantic_type\": \"\",\n        \"description\": \"\"\n      }\n    },\n    {\n      \"column\": \"Dica Visual\",\n      \"properties\": {\n        \"dtype\": \"string\",\n        \"num_unique_values\": 4,\n        \"samples\": [\n          \"Passado \\u2192 explica\\u00e7\\u00e3o\",\n          \"Rastreando de volta a origem\"\n        ],\n        \"semantic_type\": \"\",\n        \"description\": \"\"\n      }\n    }\n  ]\n}"
            }
          },
          "metadata": {},
          "execution_count": 29
        }
      ]
    },
    {
      "cell_type": "markdown",
      "source": [
        "### ✅ EXERCÍCIO 1 — Probabilidade Total\n",
        "\n",
        "Uma empresa lançou uma nova bebida energética. Eles sabem que:\n",
        "\n",
        "- 70% das pessoas veem anúncios em redes sociais (evento RRR), e o restante (30%) não vê.\n",
        "- Entre os que veem o anúncio, 20% compram a bebida.\n",
        "- Entre os que **não** veem o anúncio, apenas 5% compram.\n",
        "\n",
        "**Pergunta:**\n",
        "\n",
        "Qual a probabilidade de uma pessoa escolhida aleatoriamente comprar a bebida?"
      ],
      "metadata": {
        "id": "yXlWfufu-k8C"
      }
    },
    {
      "cell_type": "code",
      "execution_count": null,
      "metadata": {
        "colab": {
          "base_uri": "https://localhost:8080/"
        },
        "id": "00cFwNJK-eC1",
        "outputId": "fd9a0380-15e1-43eb-c3b1-e6f7d20e69b6"
      },
      "outputs": [
        {
          "output_type": "stream",
          "name": "stdout",
          "text": [
            "A probabilidade de uma pessoa comprar a bebida é de 0.155 ou 15.5%\n"
          ]
        }
      ],
      "source": [
        "# Probabilidades dadas\n",
        "p_ver_anuncio = 0.70       # P(V)\n",
        "p_nao_ver_anuncio = 0.30   # P(¬V)\n",
        "\n",
        "p_comprar_dado_que_ve = 0.20     # P(C|V)\n",
        "p_comprar_dado_que_nao_ve = 0.05 # P(C|¬V)\n",
        "\n",
        "# Aplicando a fórmula da probabilidade total\n",
        "p_comprar = (p_ver_anuncio * p_comprar_dado_que_ve) + \\\n",
        "            (p_nao_ver_anuncio * p_comprar_dado_que_nao_ve)\n",
        "\n",
        "print(f\"A probabilidade de uma pessoa comprar a bebida é de {p_comprar:.3f} ou {p_comprar*100:.1f}%\")\n"
      ]
    },
    {
      "cell_type": "markdown",
      "source": [
        "### ✅ EXERCÍCIO 2 — Teorema de Bayes\n",
        "\n",
        "Ainda sobre a bebida energética:\n",
        "\n",
        "Sabemos que 10% das pessoas compraram o produto. Entre os que compraram, 80% viram o anúncio em redes sociais.\n",
        "\n",
        "**Pergunta:**\n",
        "\n",
        "Se uma pessoa comprou a bebida, qual a probabilidade de ela ter visto o anúncio?\n"
      ],
      "metadata": {
        "id": "B77qes_P_HqM"
      }
    },
    {
      "cell_type": "code",
      "source": [
        "P_ver_anuncio = 0.80"
      ],
      "metadata": {
        "id": "79A8WYKc_KM1"
      },
      "execution_count": null,
      "outputs": []
    },
    {
      "cell_type": "markdown",
      "source": [
        "### ✅ EXERCÍCIO 3 — Probabilidade Total + Bayes\n",
        "\n",
        "Em uma universidade:\n",
        "\n",
        "- 60% dos estudantes são de Exatas, e 40% de Humanas.\n",
        "- 30% dos alunos de Exatas participam de iniciação científica.\n",
        "- Apenas 10% dos alunos de Humanas participam.\n",
        "\n",
        "**a)** Qual a probabilidade de um aluno escolhido aleatoriamente participar de iniciação científica?\n",
        "\n",
        "**b)** Se soubermos que um aluno participa de iniciação científica, qual a probabilidade de ele ser de Exatas?"
      ],
      "metadata": {
        "id": "6SAQmEe3FmfU"
      }
    },
    {
      "cell_type": "code",
      "source": [
        "#Resposta da (a)\n",
        "# Probabilidades dadas\n",
        "p_aluno_exatas = 0.60       # P(V)\n",
        "p_aluno_humanas = 0.40   # P(¬V)\n",
        "\n",
        "p_exatas_iniciacao = 0.30     # P(C|V)\n",
        "p_humanas_iniciacao = 0.10 # P(C|¬V)\n",
        "\n",
        "# Aplicando a fórmula da probabilidade total\n",
        "p_iniciacao = (p_aluno_exatas * p_exatas_iniciacao) + \\\n",
        "            (p_aluno_humanas * p_humanas_iniciacao)\n",
        "\n",
        "print(f\"A probabilidade de um aluno aleatoriamente participar de iniciação científica é de {p_iniciacao:.3f} ou {p_iniciacao*100:.1f}%\")\n",
        "\n",
        "\n",
        "#Resposta da (b)\n",
        "\n",
        "p_ser_exatas = (0.60) * (0.30) / (0.22)\n",
        "\n",
        "print(f\"A probabilidade do aluno ser de exatas é de {p_ser_exatas:.3f} ou {p_ser_exatas*100:.1f}%\")"
      ],
      "metadata": {
        "colab": {
          "base_uri": "https://localhost:8080/"
        },
        "id": "jsC89pzvCCzM",
        "outputId": "62a8307c-82e7-4a36-bffb-4d81bf331e50"
      },
      "execution_count": null,
      "outputs": [
        {
          "output_type": "stream",
          "name": "stdout",
          "text": [
            "A probabilidade de um aluno aleatoriamente participar de iniciação científica é de 0.220 ou 22.0%\n",
            "A probabilidade do aluno ser de exatas é de 0.818 ou 81.8%\n"
          ]
        }
      ]
    },
    {
      "cell_type": "markdown",
      "source": [
        "### ✅ EXERCÍCIO 4 — Probabilidade Total (Marketing digital)\n",
        "\n",
        "Uma empresa de marketing fez duas campanhas de email marketing para um produto:\n",
        "\n",
        "- 40% das pessoas receberam a **Campanha A**\n",
        "- 60% receberam a **Campanha B**\n",
        "\n",
        "As taxas de conversão foram:\n",
        "\n",
        "- 15% das pessoas que receberam a Campanha A compraram o produto\n",
        "- 10% das pessoas que receberam a Campanha B compraram o produto\n",
        "\n",
        "**Pergunta:**\n",
        "\n",
        "Qual a probabilidade de uma pessoa aleatória ter comprado o produto?"
      ],
      "metadata": {
        "id": "zqnUSiA6JFm4"
      }
    },
    {
      "cell_type": "code",
      "source": [
        "#Probabilidades dadas\n",
        "\n",
        "campanha_a = 0.40\n",
        "campanha_b = 0.60\n",
        "\n",
        "conversao_a = 0.15\n",
        "conversao_b = 0.10\n",
        "\n",
        "#Aplicação na fórmula\n",
        "\n",
        "p_aleatoria_compra = (campanha_a * conversao_a) + \\\n",
        "(campanha_b * conversao_b)\n",
        "\n",
        "# Dados do problema\n",
        "campanha_a = 0.40\n",
        "campanha_b = 0.60\n",
        "\n",
        "conversao_a = 0.15\n",
        "conversao_b = 0.10\n",
        "\n",
        "# Aplicando a fórmula da probabilidade total\n",
        "p_aleatoria_compra = (campanha_a * conversao_a) + (campanha_b * conversao_b)\n",
        "\n",
        "print(f\"A probabilidade de uma pessoa aleatória comprar o produto é de {p_aleatoria_compra:.3f} ou {p_aleatoria_compra*100:.1f}%\")\n"
      ],
      "metadata": {
        "colab": {
          "base_uri": "https://localhost:8080/"
        },
        "id": "e7-BL7gUJIdT",
        "outputId": "4ccaf718-f1bd-4d52-9578-5e60f8604cf9"
      },
      "execution_count": null,
      "outputs": [
        {
          "output_type": "stream",
          "name": "stdout",
          "text": [
            "A probabilidade de uma pessoa aleatória comprar o produto é de 0.120 ou 12.0%\n"
          ]
        }
      ]
    },
    {
      "cell_type": "markdown",
      "source": [
        "### ✅ EXERCÍCIO 5 — Teorema de Bayes (Anúncios no YouTube)\n",
        "\n",
        "Uma agência de marketing quer analisar o impacto de um anúncio no YouTube.\n",
        "\n",
        "- 25% das pessoas que compraram o produto disseram que viram o anúncio.\n",
        "- Sabemos que 30% da população viu o anúncio.\n",
        "- A taxa de conversão entre quem viu o anúncio foi de 12%.\n",
        "- A taxa de conversão entre quem **não** viu o anúncio foi de 3%.\n",
        "\n",
        "**Pergunta:**\n",
        "\n",
        "Se uma pessoa comprou o produto, qual a probabilidade de ela ter visto o anúncio no YouTube?"
      ],
      "metadata": {
        "id": "W8nsc6G9Lfoh"
      }
    },
    {
      "cell_type": "code",
      "source": [
        "# Dados\n",
        "p_viu = 0.30\n",
        "p_nao_viu = 1 - p_viu\n",
        "\n",
        "p_comprou_dado_viu = 0.12\n",
        "p_comprou_dado_nao_viu = 0.03\n",
        "\n",
        "# Probabilidade total de alguém ter comprado\n",
        "p_comprou = (p_viu * p_comprou_dado_viu) + (p_nao_viu * p_comprou_dado_nao_viu)\n",
        "\n",
        "# Teorema de Bayes\n",
        "p_viu_dado_comprou = (p_viu * p_comprou_dado_viu) / p_comprou\n",
        "\n",
        "print(f\"P(Viu | Comprou) = {p_viu_dado_comprou:.3f} ou {p_viu_dado_comprou*100:.1f}%\")\n"
      ],
      "metadata": {
        "colab": {
          "base_uri": "https://localhost:8080/"
        },
        "id": "jTCSUe9XLgcZ",
        "outputId": "4e32f3b0-ee3f-40db-d8cc-254702dafd13"
      },
      "execution_count": null,
      "outputs": [
        {
          "output_type": "stream",
          "name": "stdout",
          "text": [
            "P(Viu | Comprou) = 0.632 ou 63.2%\n"
          ]
        }
      ]
    },
    {
      "cell_type": "markdown",
      "source": [
        "### ✅ EXERCÍCIO 6 — Probabilidade Total + Bayes (Campanha em redes sociais)\n",
        "\n",
        "Uma startup investiu em campanhas nas redes sociais. Os dados são:\n",
        "\n",
        "- 70% das pessoas viram o anúncio (evento AAA)\n",
        "- Entre os que viram, 18% clicaram no link para o site (evento CCC)\n",
        "- Entre os que **não viram**, apenas 2% clicaram\n",
        "\n",
        "**a)** Qual é a probabilidade de uma pessoa clicada ter vindo de alguém que viu o anúncio?\n",
        "\n",
        "**b)** Qual é a probabilidade total de uma pessoa clicar no link?"
      ],
      "metadata": {
        "id": "mzIKGzKbQJ8a"
      }
    },
    {
      "cell_type": "code",
      "source": [
        "# Dados passados\n",
        "pessoas_viram_anuncio = 0.70\n",
        "viram_o_link = 0.18\n",
        "n_viu_mas_clicou = 0.02\n",
        "\n",
        "\n",
        "# Probabilidade de não ver o anúncio\n",
        "p_nao_viram_anuncio = 1 - pessoas_viram_anuncio\n",
        "\n",
        "# Probabilidade total de clicar no link (P(CCC))\n",
        "p_total_clicaram = (viram_o_link * pessoas_viram_anuncio) + (n_viu_mas_clicou * p_nao_viram_anuncio)\n",
        "\n",
        "# Aplicando a fórmula de Bayes\n",
        "p_viu_o_anuncio = (viram_o_link * pessoas_viram_anuncio) / p_total_clicaram\n",
        "\n",
        "# Resultado\n",
        "print(f\"A probabilidade condicional da pessoa clicada ter vindo de alguém que viu o anúncio é de {p_viu_o_anuncio:.6f} ou {p_viu_o_anuncio * 100:.1f}%\")\n"
      ],
      "metadata": {
        "colab": {
          "base_uri": "https://localhost:8080/"
        },
        "id": "GPNDqB7kVGgv",
        "outputId": "e47bd214-7111-4a82-b6af-7409bb921c02"
      },
      "execution_count": null,
      "outputs": [
        {
          "output_type": "stream",
          "name": "stdout",
          "text": [
            "A probabilidade condicional da pessoa clicada ter vindo de alguém que viu o anúncio é de 0.954545 ou 95.5%\n"
          ]
        }
      ]
    },
    {
      "cell_type": "markdown",
      "source": [
        "### **✅ EXERCÍCIO 7 — Marketing Digital (Campanha em E-commerce)**\n",
        "\n",
        "Uma loja online realizou uma campanha de desconto. Os dados são:\n",
        "\n",
        "- 50% dos visitantes da página viram o anúncio\n",
        "- 10% das pessoas que viram o anúncio compraram o produto\n",
        "- 3% das pessoas que não viram o anúncio compraram\n",
        "\n",
        "**Pergunta:** Qual a probabilidade de uma pessoa que comprou o produto tenha visto o anúncio?"
      ],
      "metadata": {
        "id": "BpLwE-SxYBVx"
      }
    },
    {
      "cell_type": "code",
      "source": [
        "#Dados passados\n",
        "\n",
        "viram_o_anuncio = 0.50\n",
        "viu_e_comprou = 0.10\n",
        "n_viu_e_comprou = 0.03\n",
        "\n",
        "# Probabilidades base\n",
        "p_viram_anuncio = 0.50\n",
        "p_nao_viram_anuncio = 1 - p_viram_anuncio  # 0.50\n",
        "\n",
        "# Probabilidade total de comprar (Regra da probabilidade total)\n",
        "p_comprar = (viu_e_comprou * p_viram_anuncio) + (n_viu_e_comprou * p_nao_viram_anuncio)\n",
        "\n",
        "# Teorema de Bayes: P(Viu | Comprou)\n",
        "p_viu_dado_comprou = (viu_e_comprou * p_viram_anuncio) / p_comprar\n",
        "\n",
        "\n",
        "# Resultado\n",
        "print(f\"A probabilidade de uma pessoa comprar o produto dado tenha vista o anúncio é de {p_viu_dado_comprou:.6f} ou {p_viu_dado_comprou * 100:.1f}%\")\n"
      ],
      "metadata": {
        "colab": {
          "base_uri": "https://localhost:8080/"
        },
        "id": "cAdXIvS79rqv",
        "outputId": "31457e9f-33ac-461b-b9b6-f24c0fcda38f"
      },
      "execution_count": null,
      "outputs": [
        {
          "output_type": "stream",
          "name": "stdout",
          "text": [
            "A probabilidade de uma pessoa comprar o produto dado tenha vista o anúncio é de 0.769231 ou 76.9%\n"
          ]
        }
      ]
    },
    {
      "cell_type": "markdown",
      "source": [
        "### **✅ EXERCÍCIO 8 — Probabilidade Total em Vendas Online**\n",
        "\n",
        "Uma empresa de comércio eletrônico oferece 3 tipos de descontos (A, B e C). As probabilidades de os clientes receberem os descontos são:\n",
        "\n",
        "- 40% dos clientes recebem o desconto A\n",
        "- 35% recebem o desconto B\n",
        "- 25% recebem o desconto C\n",
        "\n",
        "As taxas de conversão (compraram) para cada desconto são:\n",
        "\n",
        "- 10% para o desconto A\n",
        "- 8% para o desconto B\n",
        "- 15% para o desconto C\n",
        "\n",
        "**Pergunta:** Qual a probabilidade de um cliente comprar o produto em qualquer condição?"
      ],
      "metadata": {
        "id": "gDMGlUMTYDSd"
      }
    },
    {
      "cell_type": "code",
      "source": [
        "#Dados\n",
        "\n",
        "desconto_a = 0.40\n",
        "desconto_b = 0.35\n",
        "desconto_c = 0.25\n",
        "\n",
        "compraram_dado_desconto_a = 0.10\n",
        "compraram_dado_desconto_b = 0.08\n",
        "compraram_dado_desconto_c = 0.15\n",
        "\n",
        "#Aplicando a fórmula de probabilidade total\n",
        "\n",
        "compram_qlquer_condicao = (desconto_a * compraram_dado_desconto_a +\n",
        "                           desconto_b * compraram_dado_desconto_b +\n",
        "                           desconto_c * compraram_dado_desconto_c)\n",
        "\n",
        "\n",
        "# Resultado\n",
        "print(f\"A probabilidade de uma pessoa comprar o produto em qualquer condição é de {compram_qlquer_condicao:.6f} ou {compram_qlquer_condicao * 100:.1f}%\")"
      ],
      "metadata": {
        "colab": {
          "base_uri": "https://localhost:8080/"
        },
        "id": "AMbSH7uIISgR",
        "outputId": "c390da94-789a-4f34-dd44-e3acb401cc66"
      },
      "execution_count": null,
      "outputs": [
        {
          "output_type": "stream",
          "name": "stdout",
          "text": [
            "A probabilidade de uma pessoa comprar o produto em qualquer condição é de 0.105500 ou 10.6%\n"
          ]
        }
      ]
    },
    {
      "cell_type": "markdown",
      "source": [
        "### **✅ EXERCÍCIO 9 — Teorema de Bayes no Atendimento ao Cliente**\n",
        "\n",
        "Em uma loja de varejo, 20% dos clientes fazem uma compra após o atendimento de um vendedor. Sabemos que 80% dos clientes que compram, após o atendimento, consideram o atendimento como excelente. Se um cliente faz uma compra e diz que o atendimento foi excelente, qual a probabilidade de ele realmente ter comprado por conta do atendimento?"
      ],
      "metadata": {
        "id": "GxwQdoZgYFBX"
      }
    },
    {
      "cell_type": "code",
      "source": [
        "# Dados fornecidos\n",
        "\n",
        "p_compra_pos_atendimento = 0.20\n",
        "\n",
        "p_excelente_dado_compra_pos_atendimento = 0.80\n",
        "\n",
        "# Probabilidade de compra em geral (hipótese: só há compras após atendimento)\n",
        "p_excelente = p_excelente_dado_compra_pos_atendimento * p_compra_pos_atendimento\n",
        "\n",
        "# Aplicando o Teorema de Bayes\n",
        "p_atendimento_dado_excelente = (\n",
        "    p_excelente_dado_compra_pos_atendimento * p_compra_pos_atendimento\n",
        ") / p_excelente\n",
        "\n",
        "\n",
        "\n",
        "# Resultado\n",
        "print(f\"A probabilidade da compra ter se dado pelo atendimento excelente é de {p_atendimento_dado_excelente:.6f} ou {p_atendimento_dado_excelente * 100:.1f}%\")"
      ],
      "metadata": {
        "colab": {
          "base_uri": "https://localhost:8080/"
        },
        "id": "cLcStXlFMAiy",
        "outputId": "66f7859e-7648-4ee9-aa8e-b5a4ebe71526"
      },
      "execution_count": null,
      "outputs": [
        {
          "output_type": "stream",
          "name": "stdout",
          "text": [
            "A probabilidade da compra ter se dado pelo atendimento excelente é de 1.000000 ou 100.0%\n"
          ]
        }
      ]
    },
    {
      "cell_type": "markdown",
      "source": [
        "### **✅ EXERCÍCIO 10 — Marketing de Influência**\n",
        "\n",
        "Uma empresa de cosméticos fez uma campanha com influenciadoras. Os dados são:\n",
        "\n",
        "- 60% dos seguidores das influenciadoras viram o anúncio\n",
        "- 5% dos seguidores que viram o anúncio compraram o produto\n",
        "- 1% dos seguidores que não viram o anúncio compraram\n",
        "\n",
        "**Pergunta:** Se uma pessoa comprou o produto, qual a probabilidade de ela ter visto o anúncio?"
      ],
      "metadata": {
        "id": "OyrvfwxqYGh7"
      }
    },
    {
      "cell_type": "code",
      "source": [
        "# Probabilidades dadas\n",
        "\n",
        "# P(V) = Probabilidade de ter visto o anúncio\n",
        "p_veu = 0.60\n",
        "\n",
        "# P(¬V) = Probabilidade de NÃO ter visto o anúncio\n",
        "p_nao_veu = 1 - p_veu  # 0.40\n",
        "\n",
        "# P(C | V) = Probabilidade de comprar dado que viu o anúncio\n",
        "p_compra_dado_veu = 0.05\n",
        "\n",
        "# P(C | ¬V) = Probabilidade de comprar dado que NÃO viu o anúncio\n",
        "p_compra_dado_nao_veu = 0.01\n",
        "\n",
        "# Probabilidade total de compra (Regra da Probabilidade Total)\n",
        "p_compra = (p_compra_dado_veu * p_veu) + (p_compra_dado_nao_veu * p_nao_veu)\n",
        "\n",
        "# Aplicando o Teorema de Bayes:\n",
        "# P(V | C) = (P(C | V) * P(V)) / P(C)\n",
        "\n",
        "p_veu_dado_compra = (p_compra_dado_veu * p_veu) / p_compra\n",
        "\n",
        "\n",
        "#Resultado\n",
        "print(f\"A probabilidade de ter visto o anúncio dado que comprou o produto é de {p_veu_dado_compra:.6f} ou {p_veu_dado_compra * 100:.1f}%\")\n"
      ],
      "metadata": {
        "colab": {
          "base_uri": "https://localhost:8080/"
        },
        "id": "ukHqsTVBS4s-",
        "outputId": "855604a6-618a-4ef7-be8f-77bebe2fae42"
      },
      "execution_count": null,
      "outputs": [
        {
          "output_type": "stream",
          "name": "stdout",
          "text": [
            "A probabilidade de ter visto o anúncio dado que comprou o produto é de 0.882353 ou 88.2%\n"
          ]
        }
      ]
    },
    {
      "cell_type": "markdown",
      "source": [
        "### **✅ EXERCÍCIO 11 — Probabilidade Total em Lançamento de Produto**\n",
        "\n",
        "Uma empresa lançou um novo smartphone. Os dados são:\n",
        "\n",
        "- 70% das pessoas que visitaram o site da empresa viram o anúncio\n",
        "- 60% dos que viram o anúncio compraram o produto\n",
        "- 10% dos que não viram o anúncio compraram o produto\n",
        "\n",
        "**Pergunta:** Qual a probabilidade total de uma pessoa comprar o produto?"
      ],
      "metadata": {
        "id": "RY49W-IeYIIM"
      }
    },
    {
      "cell_type": "code",
      "source": [
        "# Dados\n",
        "\n",
        "p_viu_anuncio = 0.70                      # P(V)\n",
        "p_nao_viu_anuncio = 1 - p_viu_anuncio     # P(¬V)\n",
        "\n",
        "p_compra_dado_que_veu = 0.60              # P(C | V)\n",
        "p_compra_dado_que_nao_veu = 0.10          # P(C | ¬V)\n",
        "\n",
        "# Aplicando a Regra da Probabilidade Total:\n",
        "# P(C) = P(C | V) * P(V) + P(C | ¬V) * P(¬V)\n",
        "\n",
        "p_compra = (p_compra_dado_que_veu * p_viu_anuncio) + \\\n",
        "           (p_compra_dado_que_nao_veu * p_nao_viu_anuncio)\n",
        "\n",
        "# Resultado\n",
        "print(f\"A probabilidade de alguém comprar o produto é de {p_compra:.3f} ou {p_compra * 100:.1f}%\")\n"
      ],
      "metadata": {
        "colab": {
          "base_uri": "https://localhost:8080/"
        },
        "id": "KFYasPFzMaQY",
        "outputId": "a9d20809-2a5f-416f-a23a-cf0428d4695a"
      },
      "execution_count": null,
      "outputs": [
        {
          "output_type": "stream",
          "name": "stdout",
          "text": [
            "A probabilidade de alguém comprar o produto é de 0.450 ou 45.0%\n"
          ]
        }
      ]
    },
    {
      "cell_type": "markdown",
      "source": [
        "### **✅ EXERCÍCIO 12 — Teorema de Bayes em Estratégias de Vendas**\n",
        "\n",
        "Uma loja de roupas oferece um desconto de 20% aos clientes que assinam sua newsletter. Sabemos que 10% das pessoas que assinam a newsletter fazem uma compra. 25% das pessoas que compram após assinar a newsletter mencionam que se sentiram influenciadas pelo desconto. Se uma pessoa comprou e assinou a newsletter, qual a probabilidade de ela ter sido influenciada pelo desconto?"
      ],
      "metadata": {
        "id": "3Hh8Oi5cYJtG"
      }
    },
    {
      "cell_type": "code",
      "source": [
        "p_influenciada_dado_compra_assinatura = 0.25\n",
        "\n",
        "print(f\"A probabilidade de a pessoa ter sido influenciada pelo desconto é {p_influenciada_dado_compra_assinatura:.2f} ou {p_influenciada_dado_compra_assinatura*100:.0f}%\")\n"
      ],
      "metadata": {
        "colab": {
          "base_uri": "https://localhost:8080/"
        },
        "id": "1ZS5wymUOodn",
        "outputId": "de48cfab-3293-4af2-d259-57768e9aa0e2"
      },
      "execution_count": null,
      "outputs": [
        {
          "output_type": "stream",
          "name": "stdout",
          "text": [
            "A probabilidade de a pessoa ter sido influenciada pelo desconto é 0.25 ou 25%\n"
          ]
        }
      ]
    }
  ]
}